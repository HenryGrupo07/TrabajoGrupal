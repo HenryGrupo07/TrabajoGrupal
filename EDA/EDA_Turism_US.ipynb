{
 "cells": [
  {
   "cell_type": "markdown",
   "metadata": {},
   "source": [
    "Importar las librerias necesarias para realizar el análisis exploratorio de datos.\n"
   ]
  },
  {
   "cell_type": "code",
   "execution_count": 16,
   "metadata": {},
   "outputs": [],
   "source": [
    "import pandas as pd\n",
    "import matplotlib.pyplot as plt\n",
    "import folium\n",
    "from folium.plugins import HeatMap\n"
   ]
  },
  {
   "cell_type": "markdown",
   "metadata": {},
   "source": [
    "Leer los datos"
   ]
  },
  {
   "cell_type": "code",
   "execution_count": 17,
   "metadata": {},
   "outputs": [],
   "source": [
    "df = pd.read_csv('turism_US.csv')"
   ]
  },
  {
   "cell_type": "markdown",
   "metadata": {},
   "source": [
    "## ANALISIS EXPLORATORIO DE DATOS"
   ]
  },
  {
   "cell_type": "markdown",
   "metadata": {},
   "source": [
    "### Visión General"
   ]
  },
  {
   "cell_type": "markdown",
   "metadata": {},
   "source": [
    "Comprender las dimensiones del dataset visaulizando las primeras 5 filas."
   ]
  },
  {
   "cell_type": "code",
   "execution_count": 18,
   "metadata": {},
   "outputs": [
    {
     "data": {
      "text/html": [
       "<div>\n",
       "<style scoped>\n",
       "    .dataframe tbody tr th:only-of-type {\n",
       "        vertical-align: middle;\n",
       "    }\n",
       "\n",
       "    .dataframe tbody tr th {\n",
       "        vertical-align: top;\n",
       "    }\n",
       "\n",
       "    .dataframe thead th {\n",
       "        text-align: right;\n",
       "    }\n",
       "</style>\n",
       "<table border=\"1\" class=\"dataframe\">\n",
       "  <thead>\n",
       "    <tr style=\"text-align: right;\">\n",
       "      <th></th>\n",
       "      <th>Place</th>\n",
       "      <th>State</th>\n",
       "      <th>Latitude</th>\n",
       "      <th>Longitude</th>\n",
       "    </tr>\n",
       "  </thead>\n",
       "  <tbody>\n",
       "    <tr>\n",
       "      <th>0</th>\n",
       "      <td>Barber Vintage Motorsports Museum</td>\n",
       "      <td>Alabama</td>\n",
       "      <td>33.533455</td>\n",
       "      <td>-86.614092</td>\n",
       "    </tr>\n",
       "    <tr>\n",
       "      <th>1</th>\n",
       "      <td>Public Beach</td>\n",
       "      <td>Alabama</td>\n",
       "      <td>30.249310</td>\n",
       "      <td>-88.127429</td>\n",
       "    </tr>\n",
       "    <tr>\n",
       "      <th>2</th>\n",
       "      <td>USS Alabama Battleship Memorial Park</td>\n",
       "      <td>Alabama</td>\n",
       "      <td>30.683430</td>\n",
       "      <td>-88.016556</td>\n",
       "    </tr>\n",
       "    <tr>\n",
       "      <th>3</th>\n",
       "      <td>U.S. Space &amp; Rocket Center</td>\n",
       "      <td>Alabama</td>\n",
       "      <td>34.711123</td>\n",
       "      <td>-86.653936</td>\n",
       "    </tr>\n",
       "    <tr>\n",
       "      <th>4</th>\n",
       "      <td>Gulf State Park</td>\n",
       "      <td>Alabama</td>\n",
       "      <td>30.268593</td>\n",
       "      <td>-87.634305</td>\n",
       "    </tr>\n",
       "  </tbody>\n",
       "</table>\n",
       "</div>"
      ],
      "text/plain": [
       "                                  Place    State   Latitude  Longitude\n",
       "0     Barber Vintage Motorsports Museum  Alabama  33.533455 -86.614092\n",
       "1                          Public Beach  Alabama  30.249310 -88.127429\n",
       "2  USS Alabama Battleship Memorial Park  Alabama  30.683430 -88.016556\n",
       "3            U.S. Space & Rocket Center  Alabama  34.711123 -86.653936\n",
       "4                       Gulf State Park  Alabama  30.268593 -87.634305"
      ]
     },
     "execution_count": 18,
     "metadata": {},
     "output_type": "execute_result"
    }
   ],
   "source": [
    "df.head(5)"
   ]
  },
  {
   "attachments": {},
   "cell_type": "markdown",
   "metadata": {},
   "source": [
    "¿Qué tipo de datos contiene cada columna?"
   ]
  },
  {
   "cell_type": "code",
   "execution_count": 19,
   "metadata": {},
   "outputs": [
    {
     "name": "stdout",
     "output_type": "stream",
     "text": [
      "<class 'pandas.core.frame.DataFrame'>\n",
      "RangeIndex: 261 entries, 0 to 260\n",
      "Data columns (total 4 columns):\n",
      " #   Column     Non-Null Count  Dtype  \n",
      "---  ------     --------------  -----  \n",
      " 0   Place      261 non-null    object \n",
      " 1   State      261 non-null    object \n",
      " 2   Latitude   261 non-null    float64\n",
      " 3   Longitude  261 non-null    float64\n",
      "dtypes: float64(2), object(2)\n",
      "memory usage: 8.3+ KB\n"
     ]
    }
   ],
   "source": [
    "df.info()"
   ]
  },
  {
   "cell_type": "markdown",
   "metadata": {},
   "source": [
    "¿Cuantas dimensiones de cada tipo de dato tenemos en el dataframe?"
   ]
  },
  {
   "cell_type": "code",
   "execution_count": 20,
   "metadata": {},
   "outputs": [
    {
     "data": {
      "text/plain": [
       "object     2\n",
       "float64    2\n",
       "dtype: int64"
      ]
     },
     "execution_count": 20,
     "metadata": {},
     "output_type": "execute_result"
    }
   ],
   "source": [
    "df.dtypes.value_counts()"
   ]
  },
  {
   "cell_type": "markdown",
   "metadata": {},
   "source": [
    "### Valores Faltantes "
   ]
  },
  {
   "cell_type": "markdown",
   "metadata": {},
   "source": [
    "Analicemos los valores nulos ¿Cuántos valores nulos tenemos en el total en el conjunto de datos?"
   ]
  },
  {
   "cell_type": "code",
   "execution_count": 21,
   "metadata": {},
   "outputs": [
    {
     "data": {
      "text/plain": [
       "Place        0\n",
       "State        0\n",
       "Latitude     0\n",
       "Longitude    0\n",
       "dtype: int64"
      ]
     },
     "execution_count": 21,
     "metadata": {},
     "output_type": "execute_result"
    }
   ],
   "source": [
    "df.isnull().sum()"
   ]
  },
  {
   "cell_type": "markdown",
   "metadata": {},
   "source": [
    "### Valores duplicados"
   ]
  },
  {
   "cell_type": "markdown",
   "metadata": {},
   "source": [
    "Analizamos las coincidencias teniendo en cuenta determinadas columnas."
   ]
  },
  {
   "cell_type": "code",
   "execution_count": 22,
   "metadata": {},
   "outputs": [
    {
     "data": {
      "text/plain": [
       "0"
      ]
     },
     "execution_count": 22,
     "metadata": {},
     "output_type": "execute_result"
    }
   ],
   "source": [
    "df.duplicated().sum()"
   ]
  },
  {
   "cell_type": "markdown",
   "metadata": {},
   "source": [
    "### Visualización"
   ]
  },
  {
   "attachments": {},
   "cell_type": "markdown",
   "metadata": {},
   "source": [
    "Visualización rapida de lugares turisticos"
   ]
  },
  {
   "cell_type": "code",
   "execution_count": 23,
   "metadata": {},
   "outputs": [
    {
     "data": {
      "text/plain": [
       "<AxesSubplot: xlabel='Longitude', ylabel='Latitude'>"
      ]
     },
     "execution_count": 23,
     "metadata": {},
     "output_type": "execute_result"
    },
    {
     "data": {
      "image/png": "[encoded data removed]",
      "text/plain": [
       "<Figure size 1000x700 with 1 Axes>"
      ]
     },
     "metadata": {},
     "output_type": "display_data"
    }
   ],
   "source": [
    "df.plot(kind = 'scatter',x = 'Longitude',y = 'Latitude',figsize = (10,7))"
   ]
  },
  {
   "cell_type": "markdown",
   "metadata": {},
   "source": [
    "Visualizamos los inmubles con un mapa de calor"
   ]
  },
  {
   "cell_type": "code",
   "execution_count": 24,
   "metadata": {},
   "outputs": [
    {
     "data": {
      "text/html": [
       "<div style=\"width:100%;\"><div style=\"position:relative;width:100%;height:0;padding-bottom:60%;\"><span style=\"color:#565656\">Make this Notebook Trusted to load map: File -> Trust Notebook</span><iframe srcdoc=\"&lt;!DOCTYPE html&gt;\n",
       "&lt;html&gt;\n",
       "&lt;head&gt;\n",
       "    \n",
       "    &lt;meta http-equiv=&quot;content-type&quot; content=&quot;text/html; charset=UTF-8&quot; /&gt;\n",
       "    \n",
       "        &lt;script&gt;\n",
       "            L_NO_TOUCH = false;\n",
       "            L_DISABLE_3D = false;\n",
       "        &lt;/script&gt;\n",
       "    \n",
       "    &lt;style&gt;html, body {width: 100%;height: 100%;margin: 0;padding: 0;}&lt;/style&gt;\n",
       "    &lt;style&gt;#map {position:absolute;top:0;bottom:0;right:0;left:0;}&lt;/style&gt;\n",
       "    &lt;script src=&quot;https://cdn.jsdelivr.net/npm/leaflet@1.9.3/dist/leaflet.js&quot;&gt;&lt;/script&gt;\n",
       "    &lt;script src=&quot;https://code.jquery.com/jquery-1.12.4.min.js&quot;&gt;&lt;/script&gt;\n",
       "    &lt;script src=&quot;https://cdn.jsdelivr.net/npm/bootstrap@5.2.2/dist/js/bootstrap.bundle.min.js&quot;&gt;&lt;/script&gt;\n",
       "    &lt;script src=&quot;https://cdnjs.cloudflare.com/ajax/libs/Leaflet.awesome-markers/2.0.2/leaflet.awesome-markers.js&quot;&gt;&lt;/script&gt;\n",
       "    &lt;link rel=&quot;stylesheet&quot; href=&quot;https://cdn.jsdelivr.net/npm/leaflet@1.9.3/dist/leaflet.css&quot;/&gt;\n",
       "    &lt;link rel=&quot;stylesheet&quot; href=&quot;https://cdn.jsdelivr.net/npm/bootstrap@5.2.2/dist/css/bootstrap.min.css&quot;/&gt;\n",
       "    &lt;link rel=&quot;stylesheet&quot; href=&quot;https://netdna.bootstrapcdn.com/bootstrap/3.0.0/css/bootstrap.min.css&quot;/&gt;\n",
       "    &lt;link rel=&quot;stylesheet&quot; href=&quot;https://cdn.jsdelivr.net/npm/@fortawesome/fontawesome-free@6.2.0/css/all.min.css&quot;/&gt;\n",
       "    &lt;link rel=&quot;stylesheet&quot; href=&quot;https://cdnjs.cloudflare.com/ajax/libs/Leaflet.awesome-markers/2.0.2/leaflet.awesome-markers.css&quot;/&gt;\n",
       "    &lt;link rel=&quot;stylesheet&quot; href=&quot;https://cdn.jsdelivr.net/gh/python-visualization/folium/folium/templates/leaflet.awesome.rotate.min.css&quot;/&gt;\n",
       "    \n",
       "            &lt;meta name=&quot;viewport&quot; content=&quot;width=device-width,\n",
       "                initial-scale=1.0, maximum-scale=1.0, user-scalable=no&quot; /&gt;\n",
       "            &lt;style&gt;\n",
       "                #map_fa6951a9e5d9147850a47e447d3e5f42 {\n",
       "                    position: relative;\n",
       "                    width: 100.0%;\n",
       "                    height: 100.0%;\n",
       "                    left: 0.0%;\n",
       "                    top: 0.0%;\n",
       "                }\n",
       "                .leaflet-container { font-size: 1rem; }\n",
       "            &lt;/style&gt;\n",
       "        \n",
       "    &lt;script src=&quot;https://cdn.jsdelivr.net/gh/python-visualization/folium@main/folium/templates/leaflet_heat.min.js&quot;&gt;&lt;/script&gt;\n",
       "&lt;/head&gt;\n",
       "&lt;body&gt;\n",
       "    \n",
       "    \n",
       "            &lt;div class=&quot;folium-map&quot; id=&quot;map_fa6951a9e5d9147850a47e447d3e5f42&quot; &gt;&lt;/div&gt;\n",
       "        \n",
       "&lt;/body&gt;\n",
       "&lt;script&gt;\n",
       "    \n",
       "    \n",
       "            var map_fa6951a9e5d9147850a47e447d3e5f42 = L.map(\n",
       "                &quot;map_fa6951a9e5d9147850a47e447d3e5f42&quot;,\n",
       "                {\n",
       "                    center: [37.0902405, -95.7128906],\n",
       "                    crs: L.CRS.EPSG3857,\n",
       "                    zoom: 3,\n",
       "                    zoomControl: true,\n",
       "                    preferCanvas: false,\n",
       "                }\n",
       "            );\n",
       "\n",
       "            \n",
       "\n",
       "        \n",
       "    \n",
       "            var tile_layer_61ba95cce8324b7e86e7bd51c808576c = L.tileLayer(\n",
       "                &quot;https://{s}.tile.openstreetmap.org/{z}/{x}/{y}.png&quot;,\n",
       "                {&quot;attribution&quot;: &quot;Data by \\u0026copy; \\u003ca target=\\&quot;_blank\\&quot; href=\\&quot;http://openstreetmap.org\\&quot;\\u003eOpenStreetMap\\u003c/a\\u003e, under \\u003ca target=\\&quot;_blank\\&quot; href=\\&quot;http://www.openstreetmap.org/copyright\\&quot;\\u003eODbL\\u003c/a\\u003e.&quot;, &quot;detectRetina&quot;: false, &quot;maxNativeZoom&quot;: 18, &quot;maxZoom&quot;: 18, &quot;minZoom&quot;: 0, &quot;noWrap&quot;: false, &quot;opacity&quot;: 1, &quot;subdomains&quot;: &quot;abc&quot;, &quot;tms&quot;: false}\n",
       "            ).addTo(map_fa6951a9e5d9147850a47e447d3e5f42);\n",
       "        \n",
       "    \n",
       "            var heat_map_75d64c3593e9fe534ff7a96cef0e956e = L.heatLayer(\n",
       "                [[33.533455, -86.614092], [30.24931, -88.127429], [30.68343, -88.016556], [34.711123, -86.653936], [30.268593, -87.634305], [58.760756, -136.348854], [61.153635, -150.055412], [64.925194, -147.952109], [58.440922, -134.545863], [61.290081, -146.207906], [36.016066, -114.737732], [33.667999, -111.978329], [36.099762, -112.125092], [36.952766, -111.441269], [34.909988, -109.806793], [35.982913, -92.754745], [35.168006, -93.644823], [36.381896, -94.20266], [34.033365, -93.672802], [36.416307, -93.772634], [34.134117, -118.321495], [34.067796, -118.401611], [33.350638, -118.328527], [38.573084, -121.471614], [36.964301, -122.018683], [37.865101, -119.53833], [37.808671, -122.409818], [39.606152, -106.354982], [39.187342, -106.818809], [40.411442, -105.152798], [39.555279, -107.33619], [38.014469, -107.67174], [41.774013, -72.718804], [41.422974, -72.428435], [41.101623, -73.416751], [41.328485, -71.90552], [41.322718, -71.963268], [38.720945, -75.076014], [39.161079, -75.525681], [39.259064, -75.454952], [38.46557, -75.051084], [39.119011, -75.456807], [25.793449, -80.139198], [24.559955, -81.80773], [26.13206, -81.804197], [28.385233, -81.563873], [28.474386, -81.468193], [32.067526, -81.09627], [31.136055, -81.394583], [33.788512, -84.372003], [32.835274, -84.853863], [32.873666, -83.656232], [21.342003, -157.799193], [22.110608, -159.66973], [21.306737, -157.858791], [19.992015, -155.825896], [21.392431, -157.715151], [43.654897, -114.409234], [42.593731, -114.401085], [43.60711, -116.201491], [42.620781, -112.011733], [47.671488, -116.779213], [41.891506, -87.608321], [37.562535, -89.389089], [39.978694, -89.847058], [42.290045, -89.057827], [38.655089, -90.061747], [39.791, -86.148003], [41.653677, -87.052503], [41.075818, -85.139125], [39.795502, -86.235282], [39.282105, -86.521583], [41.59566, -93.553494], [42.120177, -90.766067], [41.583917, -93.681062], [43.365751, -95.137018], [41.67105, -91.346807], [37.69137, -97.349737], [38.936552, -95.311146], [38.065201, -97.921233], [38.795683, -100.764158], [39.202572, -96.305374], [36.944483, -84.84192], [39.094663, -84.497448], [38.258477, -85.759836], [37.776945, -83.688388], [37.085481, -88.59424], [29.954748, -90.069208], [30.039557, -90.651968], [32.51593, -93.743334], [30.33782, -90.038087], [29.957443, -90.062763], [44.105081, -70.250976], [44.338974, -68.27343], [44.391391, -68.20453], [43.514805, -70.380875], [44.102488, -69.108827], [39.215177, -76.856968], [38.392673, -75.061477], [38.237454, -75.137393], [38.928235, -77.068424], [38.97723, -76.487629], [39.360699, -77.396564], [42.796343, -70.83022], [42.339531, -71.094015], [42.300484, -73.336574], [41.421807, -70.551623], [42.4303, -71.310809], [45.849808, -84.617806], [42.995696, -85.73951], [45.098483, -86.010344], [42.998299, -82.427484], [42.660422, -86.205702], [48.475279, -92.82616], [44.980983, -93.152549], [47.909826, -91.234562], [47.194722, -95.165886], [44.013656, -96.324736], [32.35488, -90.84529], [30.389711, -89.059973], [34.259978, -88.679975], [30.393832, -88.892069], [33.748248, -90.731222], [36.666413, -93.338144], [37.966998, -92.760483], [37.691334, -91.080397], [39.044947, -94.580937], [38.624629, -90.185577], [48.759494, -113.787889], [45.658616, -111.045142], [44.656126, -111.098633], [46.009309, -112.565625], [46.877855, -111.914997], [41.255739, -95.931305], [41.018063, -96.320331], [42.507037, -98.941486], [40.670438, -99.0386], [41.200392, -101.664544], [36.17371, -115.153036], [36.016178, -114.737753], [36.507358, -114.535219], [39.155216, -119.932851], [39.526222, -119.808397], [37.243425, -115.793709], [37.807009, -114.412267], [44.155297, -71.412098], [44.098334, -71.665974], [44.159032, -71.369747], [44.068472, -71.071826], [43.727436, -71.321899], [40.70396, -74.050449], [38.932993, -74.960396], [39.942768, -74.070704], [40.818656, -74.224059], [40.35049, -74.661859], [32.130919, -104.552849], [35.681701, -105.928407], [35.190701, -106.479426], [36.444139, -105.593955], [32.792894, -106.324213], [40.689811, -74.046227], [40.782529, -73.965491], [40.748456, -73.985675], [40.758064, -73.985578], [40.706084, -74.008814], [35.504678, -75.480332], [35.513126, -83.293981], [36.411555, -80.253985], [35.54055, -82.552324], [35.104549, -80.939355], [46.916583, -103.526499], [47.295045, -101.285036], [46.928182, -103.553282], [46.81916, -100.778884], [46.912476, -103.534907], [39.43349596604106, -82.54824478848397], [39.142675, -84.50929], [41.508533, -81.695389], [39.805631, -84.037846], [41.482192, -82.683534], [35.465351, -97.5179], [36.642565, -96.096593], [34.147828, -94.680439], [36.133556, -95.930579], [36.213093, -95.906479], [45.886704, -123.96318], [43.909712, -121.35684], [45.373945, -121.696079], [44.747151, -124.063695], [45.884485, -123.968244], [44.423691, -110.588516], [44.460552, -110.828155], [44.591279, -104.714162], [44.525174, -109.07314], [42.881959, -109.8350942], [43.031728, -88.040246], [43.428641, -89.73141], [43.031828, -87.916581], [43.603796, -89.786894], [43.040846, -87.920875], [37.886415, -81.036372], [38.834059, -79.374418], [38.432072, -79.819263], [38.419794, -82.446193], [39.323547, -77.758083], [46.883492, -121.723857], [47.620867, -122.350532], [47.801015, -123.59935], [46.191459, -122.195636], [48.599814, -122.993897], [38.890089, -77.009029], [38.897739, -77.036549], [38.888327, -77.019846], [38.89037, -77.050261], [38.888411, -77.036805], [38.009818, -78.453248], [38.519712, -78.439932], [37.230381, -76.783189], [37.815474, -79.466844], [38.817318, -77.53517], [43.054948, -72.999539], [44.476812, -73.220878], [42.889377, -73.215613], [43.665255, -72.467234], [43.140946, -73.08098], [37.325038, -113.036412], [37.461021, -111.594348], [38.573864, -110.707076], [38.289018, -111.465509], [40.532632, -111.893891], [29.552065, -95.098029], [30.274748, -97.740339], [29.426144, -98.486174], [32.789509, -97.347009], [32.789473, -97.346977], [35.796807, -83.531027], [36.134848, -84.791193], [35.099653, -85.319304], [35.615911, -83.55281], [35.150624, -89.993586], [43.880544, -103.453774], [43.991155, -103.272048], [43.836781, -103.623435], [43.855149, -102.340089], [43.975358, -103.296904], [43.932777, -103.57345], [33.715867, -78.882034], [32.779164, -79.925503], [32.78106, -79.93056], [32.717217, -80.08041], [32.790675, -79.905596], [41.79071, -71.414705], [41.82638, -71.408185], [41.438031, -71.451167], [41.479242, -71.335824], [41.465364, -71.304631], [39.871283, -75.675148], [39.94972, -75.149678], [39.984281, -76.160705], [40.448522, -80.00249], [39.813771, -77.235855]],\n",
       "                {&quot;blur&quot;: 15, &quot;maxZoom&quot;: 18, &quot;minOpacity&quot;: 0.5, &quot;radius&quot;: 12}\n",
       "            ).addTo(map_fa6951a9e5d9147850a47e447d3e5f42);\n",
       "        \n",
       "&lt;/script&gt;\n",
       "&lt;/html&gt;\" style=\"position:absolute;width:100%;height:100%;left:0;top:0;border:none !important;\" allowfullscreen webkitallowfullscreen mozallowfullscreen></iframe></div></div>"
      ],
      "text/plain": [
       "<folium.folium.Map at 0x228f34ff6a0>"
      ]
     },
     "execution_count": 24,
     "metadata": {},
     "output_type": "execute_result"
    }
   ],
   "source": [
    "mapa = folium.Map(location=[37.0902405, -95.7128906], zoom_start= 3)\n",
    "inmubles = df[['Latitude','Longitude']].to_numpy()\n",
    "HeatMap(data = inmubles, radius=12).add_to(mapa)\n",
    "mapa"
   ]
  }
 ],
 "metadata": {
  "kernelspec": {
   "display_name": "Python 3",
   "language": "python",
   "name": "python3"
  },
  "language_info": {
   "codemirror_mode": {
    "name": "ipython",
    "version": 3
   },
   "file_extension": ".py",
   "mimetype": "text/x-python",
   "name": "python",
   "nbconvert_exporter": "python",
   "pygments_lexer": "ipython3",
   "version": "3.10.6"
  },
  "orig_nbformat": 4,
  "vscode": {
   "interpreter": {
    "hash": "609973a2d1f31d45d1c4d9f5c0b4ecf9cb33fe1a555b03392724c0cdbb5c54ba"
   }
  }
 },
 "nbformat": 4,
 "nbformat_minor": 2
}
